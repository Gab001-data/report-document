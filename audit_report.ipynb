{
 "cells": [
  {
   "cell_type": "code",
   "execution_count": 2,
   "id": "dbf6ac44",
   "metadata": {},
   "outputs": [
    {
     "name": "stderr",
     "output_type": "stream",
     "text": [
      "c:\\Users\\Gabriel O\\Desktop\\ACL\\ACL\\Knowledge Base\\Python_Reports\\report_temp\\Lib\\site-packages\\docxcompose\\properties.py:18: UserWarning: pkg_resources is deprecated as an API. See https://setuptools.pypa.io/en/latest/pkg_resources.html. The pkg_resources package is slated for removal as early as 2025-11-30. Refrain from using this package or pin to Setuptools<81.\n",
      "  import pkg_resources\n"
     ]
    }
   ],
   "source": [
    "# import libraries\n",
    "from docxtpl import DocxTemplate\n",
    "from docx import Document\n",
    "from docx.enum.text import WD_ALIGN_PARAGRAPH\n",
    "from docx.enum.section import WD_SECTION, WD_ORIENTATION\n",
    "from docx.shared import RGBColor, Mm, Pt, Inches\n",
    "from docx.oxml import OxmlElement\n",
    "from docx.oxml.ns import qn\n",
    "from docx.enum.table import WD_ROW_HEIGHT_RULE\n",
    "import requests\n",
    "from requests.adapters import HTTPAdapter\n",
    "from urllib3.util.retry import Retry\n",
    "from urllib.parse import urljoin\n",
    "import json\n",
    "from datetime import date, datetime as dt"
   ]
  },
  {
   "cell_type": "code",
   "execution_count": 4,
   "id": "6a58a827",
   "metadata": {},
   "outputs": [],
   "source": [
    "####################################################################################\n",
    "# fetch data\n",
    "####################################################################################\n",
    "\n",
    "BEARER_TOKEN = 'd358c3e1709f951fe611415e7a0b1956b783127d52d541adc48f649761408f15'\n",
    "org_id = '11534' #'52734'\n",
    "id = '492704'\n",
    "server_url = 'https://apis-us.diligentoneplatform.com'\n",
    "BASE_URL = f'https://apis-us.diligentoneplatform.com/v1/orgs/{org_id}/projects/{id}'\n",
    "headers = {'Authorization' : f'Bearer {BEARER_TOKEN}', 'Content-Type': 'application/vnd.api+json'}\n",
    "params = {'filter[status]':'active', 'filter[start_date][lte]': dt.today().isoformat(), 'include':'project, project.fieldwork'}\n",
    "\n",
    "def fetch_data(url, params=None, max_retries=5, timeout=10, backoff_factor=1):\n",
    "    \"\"\"\n",
    "        fetch data from endpoint with maxixum retries, timeout and session management\n",
    "\n",
    "        Args:\n",
    "            url(str): targeted endpoint\n",
    "            max_retries(int): no of retry attempt upon non-response from the server\n",
    "            timeout(int): prevent prolonged server connection\n",
    "            backoff_factor = wait multiplier between request\n",
    "    \"\"\"\n",
    "    retries = Retry(total= max_retries, \n",
    "                    backoff_factor=backoff_factor, \n",
    "                    status_forcelist=[429, 500, 502, 503, 504], #retries on these http errors\n",
    "                    allowed_methods=['GET'])\n",
    "    session = requests.session()\n",
    "    adapter = HTTPAdapter(max_retries=retries)\n",
    "    session.mount('http://',adapter)\n",
    "    session.mount('https://', adapter)\n",
    "    all_data = []\n",
    "    while url:\n",
    "        try:\n",
    "            resp = session.get(url, headers=headers, params=params, timeout=10)\n",
    "            resp.raise_for_status()\n",
    "        except Exception as e:\n",
    "            print(f'failure to fetch data: {e}')\n",
    "        project_data = resp.json().get('data', [])\n",
    "        all_data = all_data + project_data if isinstance(project_data, list) else project_data # check and accumulate multiple project or return a single targerted project\n",
    "        next_page = resp.json()['links']['next'] if isinstance(project_data, list) else None\n",
    "        url = urljoin(server_url,next_page) if next_page else None\n",
    "        params = None\n",
    "    session.close()\n",
    "    return all_data"
   ]
  },
  {
   "cell_type": "code",
   "execution_count": null,
   "id": "a4e9a41a",
   "metadata": {},
   "outputs": [
    {
     "data": {
      "text/plain": [
       "{'id': '492704',\n",
       " 'type': 'projects',\n",
       " 'attributes': {'name': 'SURTECH TEST -Gabe testing',\n",
       "  'state': 'active',\n",
       "  'status': 'active',\n",
       "  'created_at': '2025-08-26T09:26:02Z',\n",
       "  'updated_at': '2025-08-26T12:37:16Z',\n",
       "  'description': '',\n",
       "  'background': '<p>As part of the Surtech independent review process, Internal Audit and Risk Function conducted a Test Audit. This is included in the Approved 2023/2024 Annual Internal Audit Plan.</p><p>Internal Audit and Risk Function’s work predominantly uses the risk-based approach. That is, the team obtains an understanding of the work that the auditable section does, areas that expose the Company to risks are identified and then audit responses are developed to test if the controls put in place are operating effectively in mitigating the identified risks.\\xa0</p>',\n",
       "  'budget': None,\n",
       "  'position': 0,\n",
       "  'certification': False,\n",
       "  'control_performance': False,\n",
       "  'risk_assurance': True,\n",
       "  'management_response': '',\n",
       "  'max_sample_size': 25,\n",
       "  'number_of_testing_rounds': 1,\n",
       "  'opinion': 'Improvement Required',\n",
       "  'opinion_description': '<p>Surtech‘s Preventive Maintenance System for it’s assets is still in the early stages if we are to use a Capability maturity model. Processes to improve the maintenance system are on-going as seen in the recent development of some job cards. As a result, there are some improvement areas that have been highlighted that need a coordinated cross functional effort to ensure an effective maintenance program is implemented at the Company. \\xa0</p>',\n",
       "  'purpose': '<p>The objective of this engagement was to provide assurance over the operating effectiveness of controls put in place to maintain critical services and to ensure integrity of operations at Surtech HQ and Satellite offices.\\xa0</p>',\n",
       "  'scope': '<p><span style=\\'background-color:rgb(255,255,255);color:rgb(0,0,0);font-family:\"Century Gothic\", \"Century Gothic_EmbeddedFont\", \"Century Gothic_MSFontService\", sans-serif;font-size:11pt;\\'><span class=\"TextRun SCXW155999413 BCX8 NormalTextRun SpellingErrorV2Themed DefaultHighlightTransition\" style=\"border-bottom:1px solid transparent;font-style:normal;font-weight:400;letter-spacing:normal;line-height:19.425px;margin:0px;padding:0px;text-align:justify;text-indent:0px;white-space:normal;\">Surtech</span><span class=\"TextRun SCXW155999413 BCX8 NormalTextRun\" style=\"font-style:normal;font-weight:400;letter-spacing:normal;line-height:19.425px;margin:0px;padding:0px;text-align:justify;text-indent:0px;white-space:normal;\">, as an organisation that ……………………</span><span class=\"EOP SCXW155999413 BCX8\" style=\"font-style:normal;font-weight:400;letter-spacing:normal;line-height:19.425px;margin:0px;padding:0px;text-align:justify;text-indent:0px;white-space:normal;\">\\xa0</span></span></p>',\n",
       "  'start_date': '2025-08-26',\n",
       "  'target_date': '2025-08-26',\n",
       "  'custom_attributes': [{'id': '151043',\n",
       "    'term': 'Scope',\n",
       "    'value': ['<p>In general, this Engagement involved testing the appropriateness of the design and operating effectiveness of controls designed to mitigate the risks identified during the planning phase as shown in 6 below. &nbsp;&nbsp;</p>'],\n",
       "    'required': False,\n",
       "    'default_values': []},\n",
       "   {'id': '152124',\n",
       "    'term': 'Department',\n",
       "    'value': ['Operations Department'],\n",
       "    'required': False,\n",
       "    'default_values': []},\n",
       "   {'id': '152132',\n",
       "    'term': 'Report Date',\n",
       "    'value': ['2023-10-24'],\n",
       "    'required': False,\n",
       "    'default_values': []}],\n",
       "  'progress': 30.0,\n",
       "  'time_spent': 0.0,\n",
       "  'planned_start_date': None,\n",
       "  'planned_end_date': None,\n",
       "  'planned_milestone_date': None,\n",
       "  'actual_start_date': None,\n",
       "  'actual_end_date': None,\n",
       "  'actual_milestone_date': None,\n",
       "  'tag_list': []},\n",
       " 'relationships': {'project_type': {'data': {'id': '419957',\n",
       "    'type': 'project_types'}}},\n",
       " 'links': {'ui': 'https://cts.projects.diligentoneplatform.com/audits/492704/dashboard'}}"
      ]
     },
     "execution_count": 3,
     "metadata": {},
     "output_type": "execute_result"
    }
   ],
   "source": [
    "# fetch valid project data ***************************************************************\n",
    "projects = fetch_data('BASE_URL')\n",
    "projects"
   ]
  },
  {
   "cell_type": "code",
   "execution_count": 5,
   "id": "7a7bd216",
   "metadata": {},
   "outputs": [
    {
     "data": {
      "text/plain": [
       "419"
      ]
     },
     "execution_count": 5,
     "metadata": {},
     "output_type": "execute_result"
    }
   ],
   "source": [
    "url = 'https://cts.projects.diligentoneplatform.com/audits/492704/objectives/1896423/controls/14421654'\n",
    "resp = requests.get(url, headers=headers)\n",
    "resp.status_code"
   ]
  }
 ],
 "metadata": {
  "kernelspec": {
   "display_name": "report_temp",
   "language": "python",
   "name": "python3"
  },
  "language_info": {
   "codemirror_mode": {
    "name": "ipython",
    "version": 3
   },
   "file_extension": ".py",
   "mimetype": "text/x-python",
   "name": "python",
   "nbconvert_exporter": "python",
   "pygments_lexer": "ipython3",
   "version": "3.13.7"
  }
 },
 "nbformat": 4,
 "nbformat_minor": 5
}

{
 "cells": [
  {
   "cell_type": "code",
   "execution_count": 7,
   "id": "e2896a47",
   "metadata": {},
   "outputs": [],
   "source": [
    "from sysconfig import os"
   ]
  },
  {
   "cell_type": "code",
   "execution_count": 4,
   "id": "66eb9dea",
   "metadata": {},
   "outputs": [],
   "source": [
    "def factorial(n):\n",
    "    if n==0:\n",
    "        return 1\n",
    "    else:\n",
    "        print(n)\n",
    "        return n * factorial(n-1)"
   ]
  },
  {
   "cell_type": "code",
   "execution_count": 5,
   "id": "47a45df2",
   "metadata": {},
   "outputs": [
    {
     "name": "stdout",
     "output_type": "stream",
     "text": [
      "5\n",
      "4\n",
      "3\n",
      "2\n",
      "1\n",
      "120\n"
     ]
    }
   ],
   "source": [
    "print(factorial(5))"
   ]
  },
  {
   "cell_type": "code",
   "execution_count": 10,
   "id": "d36da3f5",
   "metadata": {},
   "outputs": [],
   "source": [
    "def list_files(path, indent=0):\n",
    "    for entry in os.listdir(path):\n",
    "        full_path = os.path.join(path, entry)\n",
    "        print(\"  \" * indent + entry)\n",
    "        if os.path.isdir(full_path):\n",
    "            list_files(full_path, indent + 1)"
   ]
  },
  {
   "cell_type": "code",
   "execution_count": 13,
   "id": "4a4790df",
   "metadata": {},
   "outputs": [
    {
     "name": "stdout",
     "output_type": "stream",
     "text": [
      "aTest\n",
      "  YouWin.txt\n",
      "impact_report.ipynb\n"
     ]
    }
   ],
   "source": [
    "list_files(r\"C:\\Users\\Gabriel O\\Desktop\\ACL\\ACL\\Knowledge Base\\Python_Reports\\Audit_Reports\")"
   ]
  },
  {
   "cell_type": "code",
   "execution_count": 26,
   "id": "cf6a59b6",
   "metadata": {},
   "outputs": [],
   "source": [
    "def flatten_data(d, parent_key='', sep='_'):\n",
    "    item = {}\n",
    "    for k,v in d.items():\n",
    "        #new_key = f'{parent_key}{sep}{k}' if parent_key else k\n",
    "        if isinstance(v,dict):\n",
    "            item.update(flatten_data(v, sep=sep))\n",
    "        else:\n",
    "            item[k] =  v\n",
    "    return item"
   ]
  },
  {
   "cell_type": "code",
   "execution_count": 30,
   "id": "83343b87",
   "metadata": {},
   "outputs": [
    {
     "data": {
      "text/plain": [
       "{'name': 'Alice',\n",
       " 'city': 'Lagos',\n",
       " 'zip': 100001,\n",
       " 'mobile': '0909999',\n",
       " 'tel': '2343',\n",
       " 'active': True}"
      ]
     },
     "execution_count": 30,
     "metadata": {},
     "output_type": "execute_result"
    }
   ],
   "source": [
    "data = {\n",
    "    \"user\": {\n",
    "        \"name\": \"Alice\",\n",
    "        \"address\": {\"city\": \"Lagos\", \"zip\": 100001, 'phone':{'mobile':'0909999', 'tel':'2343'}}\n",
    "    },\n",
    "    \"active\": True\n",
    "}\n",
    "\n",
    "flatten_data(data)"
   ]
  },
  {
   "cell_type": "code",
   "execution_count": null,
   "id": "60ad86e1",
   "metadata": {},
   "outputs": [],
   "source": [
    "def flatten_data2(d, sep='_'):\n",
    "    items = {}\n",
    "    for k,v in d.items():\n",
    "        if isinstance(v,dict): # check if value is a collection type-dict\n",
    "            is_dict = False\n",
    "            for val in v.values():\n",
    "                if isinstance(val, dict):\n",
    "                    is_dict = True\n",
    "            print(is_dict)\n",
    "            if not is_dict:\n",
    "                keys = list(v.keys())\n",
    "                vals = list(v.values())\n",
    "                new_key = f'{keys[1]}{sep}{keys[0]}'\n",
    "                items[new_key] = vals[0]\n",
    "            else:\n",
    "                items.update(flatten_data2(v,sep=sep))\n",
    "        else:\n",
    "            items[k] = v\n",
    "    return items"
   ]
  },
  {
   "cell_type": "code",
   "execution_count": 31,
   "id": "fec467d0",
   "metadata": {},
   "outputs": [
    {
     "name": "stdout",
     "output_type": "stream",
     "text": [
      "True\n",
      "True\n",
      "False\n"
     ]
    },
    {
     "data": {
      "text/plain": [
       "{'name': 'Alice',\n",
       " 'city': 'Lagos',\n",
       " 'zip': 100001,\n",
       " 'tel_mobile': '0909999',\n",
       " 'active': True}"
      ]
     },
     "execution_count": 31,
     "metadata": {},
     "output_type": "execute_result"
    }
   ],
   "source": [
    "flatten_data2(data)"
   ]
  },
  {
   "cell_type": "code",
   "execution_count": null,
   "id": "5c56ef87",
   "metadata": {},
   "outputs": [],
   "source": [
    "def flatten_attriutes(d):\n",
    "    \"\"\" \n",
    "        Apply level 1 flattening to collection attributes and mitigations\n",
    "\n",
    "        Args:\n",
    "            d(dict): dictionary object containing nested attributes to be flatten\n",
    "        \n",
    "        Return:\n",
    "            dict_obj(dict): flattened distionary object\n",
    "    \"\"\"\n",
    "    dict_obj = d\n",
    "    if 'attributes' in dict_obj:\n",
    "        attrs = dict_obj['attribute']\n",
    "        if 'custom_attribute' in attrs:\n",
    "            cust_attrs = attrs['custom_attributes']\n",
    "            del attrs['custom_attributes']\n",
    "            for attr in cust_attrs:\n",
    "                if isinstance(attr, dict):\n",
    "                    new_dict = {}\n",
    "                    term = attr['term']\n",
    "                    val = attr['value']\n",
    "                    new_dict[term] = val\n",
    "                    attrs.update(new_dict)\n",
    "        del dict_obj['attribute']\n",
    "        dict_obj.update(attrs)\n",
    "    if 'relationships' in dict_obj:\n",
    "        relationships = dict_obj['relationships']\n",
    "        if 'mitigations' in relationships:\n",
    "            relationships['mitigations'] = [miti['id'] for miti in relationships['mitigations']['data']]\n",
    "        dict_obj['relationships'] = relationships\n",
    "    \n",
    "    return dict_obj\n",
    "        "
   ]
  }
 ],
 "metadata": {
  "kernelspec": {
   "display_name": "report_temp",
   "language": "python",
   "name": "python3"
  },
  "language_info": {
   "codemirror_mode": {
    "name": "ipython",
    "version": 3
   },
   "file_extension": ".py",
   "mimetype": "text/x-python",
   "name": "python",
   "nbconvert_exporter": "python",
   "pygments_lexer": "ipython3",
   "version": "3.13.7"
  }
 },
 "nbformat": 4,
 "nbformat_minor": 5
}
